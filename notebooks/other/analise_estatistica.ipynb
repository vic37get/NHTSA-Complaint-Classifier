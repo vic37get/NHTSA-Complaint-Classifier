{
 "cells": [
  {
   "cell_type": "code",
   "execution_count": null,
   "metadata": {},
   "outputs": [],
   "source": [
    "import json\n",
    "import pandas as pd\n",
    "from tqdm.auto import tqdm\n",
    "import numpy as np\n",
    "import seaborn as sns\n",
    "import matplotlib.pyplot as plt\n",
    "from wordcloud import STOPWORDS\n",
    "from nltk.tokenize import word_tokenize, sent_tokenize"
   ]
  },
  {
   "cell_type": "code",
   "execution_count": 2,
   "metadata": {},
   "outputs": [],
   "source": [
    "dados_complaints = json.load(open(\"../../data/json/complaints_full.json\"))"
   ]
  },
  {
   "cell_type": "code",
   "execution_count": null,
   "metadata": {},
   "outputs": [],
   "source": [
    "df = pd.DataFrame(dados_complaints)\n",
    "df"
   ]
  },
  {
   "cell_type": "code",
   "execution_count": null,
   "metadata": {},
   "outputs": [],
   "source": [
    "df.drop_duplicates(subset=['summary'], inplace=True)\n",
    "df.dropna(subset=['summary'], inplace=True)\n",
    "df.reset_index(drop=True, inplace=True)\n",
    "df"
   ]
  },
  {
   "cell_type": "code",
   "execution_count": null,
   "metadata": {},
   "outputs": [],
   "source": [
    "df = df.loc[:, (\"manufacturer\", \"crash\", \"fire\", \"numberOfInjuries\", \"numberOfDeaths\", \"dateComplaintFiled\", \"components\", \"summary\")]\n",
    "df"
   ]
  },
  {
   "cell_type": "code",
   "execution_count": null,
   "metadata": {},
   "outputs": [],
   "source": [
    "train_df = pd.read_csv(\"/var/projetos/Jupyterhubstorage/victor.silva/NHTSA-Complaint-Classifier/data/csv/train.csv\")\n",
    "test_df = pd.read_csv(\"/var/projetos/Jupyterhubstorage/victor.silva/NHTSA-Complaint-Classifier/data/csv/test.csv\")\n",
    "val_df = pd.read_csv(\"/var/projetos/Jupyterhubstorage/victor.silva/NHTSA-Complaint-Classifier/data/csv/eval.csv\")\n",
    "\n",
    "dados_csv = pd.concat([train_df, test_df, val_df])\n",
    "dados_csv"
   ]
  },
  {
   "cell_type": "code",
   "execution_count": 6,
   "metadata": {},
   "outputs": [],
   "source": [
    "ids_selecionados = dados_csv[\"odiNumber\"].tolist()"
   ]
  },
  {
   "cell_type": "code",
   "execution_count": null,
   "metadata": {},
   "outputs": [],
   "source": [
    "df = df[df['odiNumber'].isin(ids_selecionados)]\n",
    "df"
   ]
  },
  {
   "cell_type": "code",
   "execution_count": null,
   "metadata": {},
   "outputs": [],
   "source": [
    "!pip install wordcloud"
   ]
  },
  {
   "cell_type": "code",
   "execution_count": null,
   "metadata": {},
   "outputs": [],
   "source": [
    "!pip install textstat"
   ]
  },
  {
   "cell_type": "code",
   "execution_count": 11,
   "metadata": {},
   "outputs": [],
   "source": [
    "def unique_words(text):\n",
    "    words = word_tokenize(text.lower())\n",
    "    words = [word for word in words if word.isalpha()]\n",
    "    return len(set(words))\n",
    "\n",
    "def average_length(text):\n",
    "    words = word_tokenize(text)\n",
    "    return np.mean([len(word) for word in words if word.isalpha()])\n",
    "\n",
    "def stopword_proportion(text):\n",
    "    words = word_tokenize(text.lower())\n",
    "    stopwords = set(STOPWORDS)\n",
    "    stopwords_in_text = [word for word in words if word in stopwords]\n",
    "    return len(stopwords_in_text) / len(words) if words else 0\n",
    "\n",
    "def sentence_count(text):\n",
    "    return len(sent_tokenize(text))"
   ]
  },
  {
   "cell_type": "code",
   "execution_count": null,
   "metadata": {},
   "outputs": [],
   "source": [
    "tqdm.pandas()\n",
    "\n",
    "df['unique_words'] = df['summary'].progress_apply(unique_words)\n",
    "df['average_word_length'] = df['summary'].progress_apply(average_length)\n",
    "df['stopword_proportion'] = df['summary'].progress_apply(stopword_proportion)\n",
    "df['sentence_count'] = df['summary'].progress_apply(sentence_count)"
   ]
  },
  {
   "cell_type": "code",
   "execution_count": null,
   "metadata": {},
   "outputs": [],
   "source": [
    "sns.set(style=\"whitegrid\")\n",
    "\n",
    "fig, axes = plt.subplots(2, 2, figsize=(18, 12))\n",
    "\n",
    "sns.histplot(df['unique_words'], kde=True, color='orange', bins=30, ax=axes[0, 0])\n",
    "axes[0, 0].set_title('Distribuição do Número de Palavras Únicas', fontsize=16)\n",
    "axes[0, 0].set_xlabel('Número de Palavras Únicas', fontsize=12)\n",
    "axes[0, 0].set_ylabel('Frequência', fontsize=12)\n",
    "\n",
    "sns.histplot(df['average_word_length'], kde=True, color='green', bins=30, ax=axes[0, 1])\n",
    "axes[0, 1].set_title('Distribuição do Comprimento Médio das Palavras', fontsize=16)\n",
    "axes[0, 1].set_xlabel('Comprimento Médio das Palavras', fontsize=12)\n",
    "axes[0, 1].set_ylabel('Frequência', fontsize=12)\n",
    "\n",
    "sns.histplot(df['stopword_proportion'], kde=True, color='red', bins=30, ax=axes[1, 0])\n",
    "axes[1, 0].set_title('Distribuição da Proporção de Stopwords', fontsize=16)\n",
    "axes[1, 0].set_xlabel('Proporção de Stopwords', fontsize=12)\n",
    "axes[1, 0].set_ylabel('Frequência', fontsize=12)\n",
    "\n",
    "sns.histplot(df['sentence_count'], kde=True, color='purple', bins=30, ax=axes[1, 1])\n",
    "axes[1, 1].set_title('Distribuição do Número de Sentenças', fontsize=16)\n",
    "axes[1, 1].set_xlabel('Número de Sentenças', fontsize=12)\n",
    "axes[1, 1].set_ylabel('Frequência', fontsize=12)\n",
    "\n",
    "plt.tight_layout()\n",
    "\n",
    "plt.show()"
   ]
  },
  {
   "cell_type": "code",
   "execution_count": null,
   "metadata": {},
   "outputs": [],
   "source": [
    "component_counts = df['components'].value_counts().reset_index()\n",
    "\n",
    "component_counts.columns = ['Component', 'Count']\n",
    "\n",
    "print(component_counts)\n"
   ]
  },
  {
   "cell_type": "code",
   "execution_count": null,
   "metadata": {},
   "outputs": [],
   "source": [
    "component_counts = component_counts[component_counts[\"Count\"] > 50]\n",
    "component_counts"
   ]
  },
  {
   "cell_type": "code",
   "execution_count": null,
   "metadata": {},
   "outputs": [],
   "source": [
    "sns.set(style=\"whitegrid\")\n",
    "\n",
    "plt.figure(figsize=(12, 8))\n",
    "\n",
    "ax = sns.barplot(y=component_counts['Component'], x=component_counts['Count'], palette='viridis')\n",
    "\n",
    "plt.title('Frequencia do Component no conjunto de dados', fontsize=18, fontweight='bold')\n",
    "plt.xlabel('Contagem', fontsize=14)\n",
    "plt.ylabel('Component', fontsize=14)\n",
    "\n",
    "plt.gca().invert_yaxis()\n",
    "\n",
    "plt.xticks(fontsize=12)\n",
    "plt.yticks(fontsize=12)\n",
    "\n",
    "plt.show()"
   ]
  }
 ],
 "metadata": {
  "kernelspec": {
   "display_name": "Python 3",
   "language": "python",
   "name": "python3"
  },
  "language_info": {
   "codemirror_mode": {
    "name": "ipython",
    "version": 3
   },
   "file_extension": ".py",
   "mimetype": "text/x-python",
   "name": "python",
   "nbconvert_exporter": "python",
   "pygments_lexer": "ipython3",
   "version": "3.9.5"
  }
 },
 "nbformat": 4,
 "nbformat_minor": 2
}
