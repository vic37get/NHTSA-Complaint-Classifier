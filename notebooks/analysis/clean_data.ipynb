{
 "cells": [
  {
   "cell_type": "code",
   "execution_count": 1,
   "metadata": {},
   "outputs": [],
   "source": [
    "import pandas as pd\n",
    "import os\n",
    "import regex as re\n",
    "import json\n",
    "from sklearn.model_selection import train_test_split\n",
    "import numpy as np"
   ]
  },
  {
   "cell_type": "code",
   "execution_count": 2,
   "metadata": {},
   "outputs": [],
   "source": [
    "BASE_DIR = \"../../data/json\"\n",
    "results = json.load(open(os.path.join(BASE_DIR, \"complaints_full.json\"), \"r\"))"
   ]
  },
  {
   "cell_type": "code",
   "execution_count": 3,
   "metadata": {},
   "outputs": [],
   "source": [
    "df = pd.DataFrame(results)\n",
    "df = df.loc[:, (\"odiNumber\",\"dateComplaintFiled\", \"components\", \"summary\")]"
   ]
  },
  {
   "cell_type": "code",
   "execution_count": null,
   "metadata": {},
   "outputs": [],
   "source": [
    "df[\"components\"].value_counts()"
   ]
  },
  {
   "cell_type": "code",
   "execution_count": null,
   "metadata": {},
   "outputs": [],
   "source": [
    "df['dateComplaintFiled'] = pd.to_datetime(df['dateComplaintFiled'], format=\"%m/%d/%Y\")\n",
    "\n",
    "df_filtrado = df[(df['dateComplaintFiled'].dt.year >= 2014) & (df[\"dateComplaintFiled\"].dt.year <= 2024)]\n",
    "df_test = df[(df['dateComplaintFiled'].dt.year < 2014)]\n",
    "\n",
    "df_filtrado.dropna(inplace=True)\n",
    "df_test.dropna(inplace=True)\n",
    "\n",
    "df_filtrado.drop_duplicates(subset=['summary'], inplace=True)\n",
    "df_test.drop_duplicates(subset=['summary'], inplace=True)"
   ]
  },
  {
   "cell_type": "code",
   "execution_count": 6,
   "metadata": {},
   "outputs": [],
   "source": [
    "classes = {\n",
    "    \"ELECTRICAL SYSTEM\": 0,\n",
    "    \"AIR BAGS\": 1,\n",
    "    \"STRUCTURE\": 2,\n",
    "    \"SERVICE BRAKES\": 3,\n",
    "    \"OTHER\": 4\n",
    "    }"
   ]
  },
  {
   "cell_type": "code",
   "execution_count": null,
   "metadata": {},
   "outputs": [],
   "source": [
    "df_filtrado.loc[:, \"label\"] = df_filtrado[\"components\"].apply(lambda x: x.strip() if x.strip() in classes.keys() else \"OTHER\")\n",
    "df_test.loc[:, \"label\"] = df_test[\"components\"].apply(lambda x: x.strip() if x.strip() in classes.keys() else \"OTHER\")"
   ]
  },
  {
   "cell_type": "code",
   "execution_count": 8,
   "metadata": {},
   "outputs": [],
   "source": [
    "threshold_balanced = round(np.min(df_filtrado['label'].value_counts())/2)\n",
    "labels = list(classes.keys())\n",
    "dados_filtrados = [df_filtrado[df_filtrado['label'] == label].sample(n=threshold_balanced) for label in labels]\n",
    "df_filtrado = pd.concat(dados_filtrados)\n",
    "\n",
    "# Pegando um número de amostras de teste igual a 20% das amostras do dataset que será usado para treinar/avaliar.\n",
    "num_amostras_test = round(len(df_filtrado) * 0.2)\n",
    "df_test = df_test.sample(n=num_amostras_test, random_state=42)"
   ]
  },
  {
   "cell_type": "code",
   "execution_count": 9,
   "metadata": {},
   "outputs": [],
   "source": [
    "def clean_text(text: str) -> str:\n",
    "    \"\"\"\n",
    "    Remove caracteres indesejados.\n",
    "    \"\"\"\n",
    "    # Remove caracteres indesejados.\n",
    "    text = re.sub(r'([•●▪•_·□»«#£¢¿&^~´`¨\\t])', ' ', text)\n",
    "    # Remove múltiplos hífens.\n",
    "    text = re.sub(r'(-)+', '-', text)\n",
    "    # Remove múltiplos pontos.\n",
    "    text = re.sub(r'(\\.)+', '.', text)\n",
    "    # Remove espaços consecutivos.\n",
    "    text = re.sub(r'\\s+', ' ', text)\n",
    "    # Remove espaço no fim da frase.\n",
    "    text = re.sub(r'\\s\\.$', '.', text)\n",
    "    return text.lower().strip()"
   ]
  },
  {
   "cell_type": "code",
   "execution_count": 10,
   "metadata": {},
   "outputs": [],
   "source": [
    "df_filtrado.loc[:,'summary'] = df_filtrado['summary'].apply(lambda x: clean_text(x))\n",
    "df_test.loc[:,'summary'] = df_test['summary'].apply(lambda x: clean_text(x))"
   ]
  },
  {
   "cell_type": "code",
   "execution_count": 11,
   "metadata": {},
   "outputs": [],
   "source": [
    "train, eval = train_test_split(df_filtrado, test_size=0.2, random_state=42, stratify=df_filtrado['label'])\n",
    "train.reset_index(inplace=True, drop=True)\n",
    "eval.reset_index(inplace=True, drop=True)\n",
    "df_test.reset_index(inplace=True, drop=True)"
   ]
  },
  {
   "cell_type": "code",
   "execution_count": 12,
   "metadata": {},
   "outputs": [],
   "source": [
    "train.to_csv(\"../../data/csv/train.csv\", index=False)\n",
    "eval.to_csv(\"../../data/csv/eval.csv\", index=False)\n",
    "df_test.to_csv(\"../../data/csv/test.csv\", index=False)"
   ]
  }
 ],
 "metadata": {
  "kernelspec": {
   "display_name": "Python 3",
   "language": "python",
   "name": "python3"
  },
  "language_info": {
   "codemirror_mode": {
    "name": "ipython",
    "version": 3
   },
   "file_extension": ".py",
   "mimetype": "text/x-python",
   "name": "python",
   "nbconvert_exporter": "python",
   "pygments_lexer": "ipython3",
   "version": "3.9.5"
  }
 },
 "nbformat": 4,
 "nbformat_minor": 2
}
