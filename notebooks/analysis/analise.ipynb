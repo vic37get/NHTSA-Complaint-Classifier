{
 "cells": [
  {
   "cell_type": "code",
   "execution_count": 1,
   "metadata": {},
   "outputs": [],
   "source": [
    "import requests\n",
    "from tqdm.auto import tqdm\n",
    "import json\n",
    "import pandas as pd\n",
    "from datetime import datetime\n",
    "import os"
   ]
  },
  {
   "cell_type": "markdown",
   "metadata": {},
   "source": [
    "\n",
    "### Ideias de classificação\n",
    "\n",
    " Com base na descrição da pra vericar se houve mortos ou não\n",
    "\n",
    " Tem também o parâmetro crash, da pra usar ele como alguma coisa na hora de classificar\n",
    "\n",
    " Da pra criar com base nos components uma classificação voltada para o texto em summary.\n",
    "\n"
   ]
  },
  {
   "cell_type": "markdown",
   "metadata": {},
   "source": [
    "## 1. Aquisição e Pré-processamento de Dados"
   ]
  },
  {
   "cell_type": "markdown",
   "metadata": {},
   "source": [
    "### Objetivo"
   ]
  },
  {
   "cell_type": "markdown",
   "metadata": {},
   "source": [
    "* Nesta seção, detalhamos o processo de aquisição e pré-processamento dos dados de reclamações de veículos da NHTSA. O objetivo foi preparar os dados para treinamento de um modelo de classificação baseado em embeddings."
   ]
  },
  {
   "cell_type": "markdown",
   "metadata": {},
   "source": [
    "### Aquisição dos dados"
   ]
  },
  {
   "cell_type": "markdown",
   "metadata": {},
   "source": [
    "* Os dados foram obtidos através da API fornecida do endereço `https://api.nhtsa.gov`"
   ]
  },
  {
   "cell_type": "markdown",
   "metadata": {},
   "source": [
    "* Com o uso da biblioteca requests, do Python, foi possível adquirir as informações acerca das reclamações de veículos do NHTSA"
   ]
  },
  {
   "cell_type": "code",
   "execution_count": 2,
   "metadata": {},
   "outputs": [],
   "source": [
    "def get_all_model_years(output_file: str = \"model_years.json\") -> None:\n",
    "    \"\"\"\n",
    "    Obtem todos o ano de todos os modelos dispoíveis.\n",
    "    \"\"\"\n",
    "    url = \"https://api.nhtsa.gov/products/vehicle/modelYears?issueType=c\"\n",
    "    try:\n",
    "        response = requests.get(url)\n",
    "        results = response.json().get('results')\n",
    "        if results:\n",
    "            with open(output_file, \"w\") as file:\n",
    "                model_year = [year['modelYear'] for year in results]\n",
    "                json.dump(model_year, file, indent=4)\n",
    "                print(f\"Dados salvos em {output_file}\")\n",
    "    except Exception as e:\n",
    "        print(f\"Ocorreu um erro: {e}\")"
   ]
  },
  {
   "cell_type": "code",
   "execution_count": 3,
   "metadata": {},
   "outputs": [],
   "source": [
    "def get_all_makes_model_year(list_model_year: list[dict], output_file: str = \"make_modelyear.json\") -> None:\n",
    "    \"\"\"\n",
    "    A partir da lista de anos dos modelos disponíveis, obtém a marca daquele modelo e salva os dados em um arquivo JSON a cada 100 registros.\n",
    "    \"\"\"\n",
    "    url = \"https://api.nhtsa.gov/products/vehicle/makes?modelYear={model_year}&issueType=c\"\n",
    "    make_modelyear = []\n",
    "    record_count = 0\n",
    "\n",
    "    for model_year in tqdm(list_model_year, desc=\"Capturando modelo e ano\", colour=\"green\"):\n",
    "        try:\n",
    "            response = requests.get(url.format(model_year=model_year))\n",
    "            response.raise_for_status()\n",
    "            results = response.json().get('results', [])\n",
    "            \n",
    "            if results:\n",
    "                make_modelyear.extend(results)\n",
    "                record_count += len(results)\n",
    "                \n",
    "                if record_count >= 100:\n",
    "                    with open(output_file, \"w\") as file:\n",
    "                        json.dump(make_modelyear, file, indent=4)\n",
    "                    record_count = 0\n",
    "                    \n",
    "        except Exception as e:\n",
    "            print(f\"Ocorreu um erro ao processar o ano {model_year}: {e}\")\n",
    "            continue\n",
    "        \n",
    "    if make_modelyear:\n",
    "        with open(output_file, \"w\") as file:\n",
    "            json.dump(make_modelyear, file, indent=4)\n",
    "\n",
    "    print(f\"Dados salvos em {output_file}\")"
   ]
  },
  {
   "cell_type": "code",
   "execution_count": 4,
   "metadata": {},
   "outputs": [],
   "source": [
    "def get_all_models_make_year(list_make_year: list[dict], output_file: str = \"model_make_year.json\") -> None:\n",
    "    \"\"\"\n",
    "    Obtém uma lista de dicionários que contém a marca, o modelo e o ano para cada carro, \n",
    "    salvando os dados em um arquivo JSON a cada 100 registros.\n",
    "    \"\"\"\n",
    "    url = \"https://api.nhtsa.gov/products/vehicle/models?modelYear={modelYear}&make={make}&issueType=c\"\n",
    "    model_make_year = []\n",
    "    record_count = 0\n",
    "\n",
    "    for item in tqdm(list_make_year, desc=\"Capturando marca, modelo e ano\", colour=\"yellow\"):\n",
    "        try:\n",
    "            response = requests.get(url.format(modelYear=item.get('modelYear'), make=item.get(\"make\")))\n",
    "            response.raise_for_status()\n",
    "            results = response.json().get('results', [])\n",
    "\n",
    "            if results:\n",
    "                model_make_year.extend(results)\n",
    "                record_count += len(results)\n",
    "                \n",
    "                if record_count >= 100:\n",
    "                    with open(output_file, \"w\") as file:\n",
    "                        json.dump(model_make_year, file, indent=4)\n",
    "                    record_count = 0\n",
    "        except Exception as e:\n",
    "            print(f\"Ocorreu um erro ao processar o item {item}: {e}\")\n",
    "            continue\n",
    "\n",
    "    if model_make_year:\n",
    "        with open(output_file, \"w\") as file:\n",
    "            json.dump(model_make_year, file, indent=4)\n",
    "\n",
    "    print(f\"Dados salvos em {output_file}\")"
   ]
  },
  {
   "cell_type": "code",
   "execution_count": 5,
   "metadata": {},
   "outputs": [],
   "source": [
    "def get_all_complaints(make_model_year: list[dict], output_file: str = \"complaints.json\") -> list[dict]:\n",
    "    \"\"\"\n",
    "    Obtém uma lista de dicionários contendo as reclamações por modelo, marca e ano.\n",
    "    Os dados são salvos em um arquivo JSON a cada 100 registros processados.\n",
    "    \"\"\"\n",
    "    url_template = \"https://api.nhtsa.gov/complaints/complaintsByVehicle?make={make}&model={model}&modelYear={modelYear}\"\n",
    "    complaints = []\n",
    "    record_count = 0\n",
    "\n",
    "    for item in tqdm(make_model_year, desc=\"Capturando as reclamações\", colour=\"blue\"):\n",
    "        try:\n",
    "            url = url_template.format(make=item.get('make'), model=item.get('model'), modelYear=item.get('modelYear'))\n",
    "            response = requests.get(url)\n",
    "            response.raise_for_status()\n",
    "            results = response.json().get('results', [])\n",
    "            for result in results:\n",
    "                complaints.append(result)\n",
    "                record_count += 1\n",
    "\n",
    "                if record_count >= 100:\n",
    "                    with open(output_file, \"w\") as file:\n",
    "                        json.dump(complaints, file, indent=4)\n",
    "                        record_count = 0\n",
    "        except Exception as e:\n",
    "            print(e)\n",
    "            continue\n",
    "            \n",
    "    if complaints:\n",
    "        with open(output_file, \"w\") as file:\n",
    "            json.dump(complaints, file, indent=4)\n",
    "\n",
    "    print(f\"Dados salvos em {output_file}\")\n",
    "    return complaints"
   ]
  },
  {
   "cell_type": "code",
   "execution_count": 6,
   "metadata": {},
   "outputs": [],
   "source": [
    "BASE_DIR = \"../../data/json\""
   ]
  },
  {
   "cell_type": "code",
   "execution_count": null,
   "metadata": {},
   "outputs": [],
   "source": [
    "get_all_model_years(output_file=os.path.join(BASE_DIR, \"model_years.json\"))\n",
    "model_year = json.load(open(os.path.join(BASE_DIR, \"model_years.json\"), \"r\"))"
   ]
  },
  {
   "cell_type": "code",
   "execution_count": null,
   "metadata": {},
   "outputs": [],
   "source": [
    "get_all_makes_model_year(model_year, output_file=os.path.join(BASE_DIR, \"make_modelyear.json\"))\n",
    "make_modelyear = json.load(open(os.path.join(BASE_DIR, \"make_modelyear.json\"), \"r\"))"
   ]
  },
  {
   "cell_type": "code",
   "execution_count": null,
   "metadata": {},
   "outputs": [],
   "source": [
    "get_all_models_make_year(make_modelyear, output_file=os.path.join(BASE_DIR, \"model_make_year.json\"))\n",
    "model_make_year = json.load(open(os.path.join(BASE_DIR, \"model_make_year.json\"), \"r\"))"
   ]
  },
  {
   "cell_type": "code",
   "execution_count": null,
   "metadata": {},
   "outputs": [],
   "source": [
    "# Dropando duplicados\n",
    "df_model_make_year = pd.DataFrame(model_make_year)\n",
    "df_model_make_year.drop_duplicates(inplace=True)\n",
    "df_model_make_year.dropna(inplace=True)\n",
    "model_make_year = df_model_make_year.to_dict(orient='records')\n",
    "model_make_year"
   ]
  },
  {
   "cell_type": "code",
   "execution_count": 54,
   "metadata": {},
   "outputs": [],
   "source": [
    "json.dump(model_make_year, open(os.path.join(BASE_DIR, \"model_make_year.json\"), \"w\"), indent=4, ensure_ascii=False)"
   ]
  },
  {
   "cell_type": "markdown",
   "metadata": {},
   "source": [
    "#### Obtendo todas as reclamações"
   ]
  },
  {
   "cell_type": "code",
   "execution_count": 7,
   "metadata": {},
   "outputs": [],
   "source": [
    "model_make_year = json.load(open(os.path.join(BASE_DIR, \"model_make_year.json\"), 'r'))"
   ]
  },
  {
   "cell_type": "code",
   "execution_count": null,
   "metadata": {},
   "outputs": [],
   "source": [
    "get_all_complaints(model_make_year, output_file=os.path.join(BASE_DIR, \"complaints.json\"))"
   ]
  }
 ],
 "metadata": {
  "kernelspec": {
   "display_name": "Python 3",
   "language": "python",
   "name": "python3"
  },
  "language_info": {
   "codemirror_mode": {
    "name": "ipython",
    "version": 3
   },
   "file_extension": ".py",
   "mimetype": "text/x-python",
   "name": "python",
   "nbconvert_exporter": "python",
   "pygments_lexer": "ipython3",
   "version": "3.9.5"
  }
 },
 "nbformat": 4,
 "nbformat_minor": 2
}
