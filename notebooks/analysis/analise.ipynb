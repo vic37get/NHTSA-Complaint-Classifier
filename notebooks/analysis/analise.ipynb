{
 "cells": [
  {
   "cell_type": "code",
   "execution_count": 114,
   "metadata": {},
   "outputs": [],
   "source": [
    "import requests\n",
    "from tqdm.auto import tqdm\n",
    "import json\n",
    "import pandas as pd\n",
    "from datetime import datetime"
   ]
  },
  {
   "cell_type": "markdown",
   "metadata": {},
   "source": [
    "\n",
    "### Ideias de classificação\n",
    "\n",
    " Com base na descrição da pra vericar se houve mortos ou não\n",
    "\n",
    " Tem também o parâmetro crash, da pra usar ele como alguma coisa na hora de classificar\n",
    "\n",
    " Da pra criar com base nos components uma classificação voltada para o texto em summary.\n",
    "\n"
   ]
  },
  {
   "cell_type": "markdown",
   "metadata": {},
   "source": [
    "## 1. Aquisição e Pré-processamento de Dados"
   ]
  },
  {
   "cell_type": "markdown",
   "metadata": {},
   "source": [
    "### Objetivo"
   ]
  },
  {
   "cell_type": "markdown",
   "metadata": {},
   "source": [
    "* Nesta seção, detalhamos o processo de aquisição e pré-processamento dos dados de reclamações de veículos da NHTSA. O objetivo foi preparar os dados para treinamento de um modelo de classificação baseado em embeddings."
   ]
  },
  {
   "cell_type": "markdown",
   "metadata": {},
   "source": [
    "### Aquisição dos dados"
   ]
  },
  {
   "cell_type": "markdown",
   "metadata": {},
   "source": [
    "* Os dados foram obtidos através da API fornecida do endereço `https://api.nhtsa.gov`"
   ]
  },
  {
   "cell_type": "markdown",
   "metadata": {},
   "source": [
    "* Com o uso da biblioteca requests, do Python, foi possível adquirir as informações acerca das reclamações de veículos do NHTSA"
   ]
  },
  {
   "cell_type": "code",
   "execution_count": 93,
   "metadata": {},
   "outputs": [],
   "source": [
    "def get_all_model_years() -> dict:\n",
    "    \"\"\"\n",
    "    Obtem todos o ano de todos os modelos dispoíveis.\n",
    "    \"\"\"\n",
    "    url = \"https://api.nhtsa.gov/products/vehicle/modelYears?issueType=c\"\n",
    "    try:\n",
    "        response = requests.get(url)\n",
    "        results = response.json().get('results')\n",
    "        if results:\n",
    "            return [year['modelYear'] for year in results]\n",
    "    except Exception as e:\n",
    "        print(f\"Ocorreu um erro: {e}\")\n",
    "    return None"
   ]
  },
  {
   "cell_type": "code",
   "execution_count": 94,
   "metadata": {},
   "outputs": [],
   "source": [
    "def get_all_makes_model_year(list_model_year: list) -> dict:\n",
    "    \"\"\"\n",
    "    A partir da lista de anos dos modelos disponíveis, obtem a marca daquele modelo.\n",
    "    \"\"\"\n",
    "    url = \"https://api.nhtsa.gov/products/vehicle/makes?modelYear={model_year}&issueType=c\"\n",
    "    # Lista com os modelos e anos.\n",
    "    make_modelyear = []\n",
    "    for model_year in tqdm(list_model_year, desc=\"Capturando modelo e ano\", colour=\"green\"):\n",
    "        response = requests.get(url.format(model_year=model_year))\n",
    "        results = response.json().get('results')\n",
    "        if results:\n",
    "            make_modelyear.extend(results)\n",
    "    return make_modelyear"
   ]
  },
  {
   "cell_type": "code",
   "execution_count": 95,
   "metadata": {},
   "outputs": [],
   "source": [
    "def get_all_models_make_year(list_make_year: list[dict]) -> list[dict]:\n",
    "    \"\"\"\n",
    "    Obtem uma lista de dicionários que contém a marca, o modelo e o ano para cada carro.\n",
    "    \"\"\"\n",
    "    url = \"https://api.nhtsa.gov/products/vehicle/models?modelYear={modelYear}&make={make}&issueType=c\"\n",
    "    # Lista com modelos, marcas e anos.\n",
    "    model_make_year = []\n",
    "    for item in tqdm(list_make_year, desc=\"Capturando marca, modelo e ano\", colour=\"yellow\"):\n",
    "        response = requests.get(url.format(modelYear=item.get('modelYear'), make=item.get(\"make\")))\n",
    "        results = response.json().get('results')\n",
    "        if results:\n",
    "            model_make_year.extend(results)\n",
    "    return model_make_year"
   ]
  },
  {
   "cell_type": "code",
   "execution_count": null,
   "metadata": {},
   "outputs": [],
   "source": [
    "list_model_year = get_all_model_years()\n",
    "list_make_year = get_all_makes_model_year(list_model_year)"
   ]
  },
  {
   "cell_type": "code",
   "execution_count": null,
   "metadata": {},
   "outputs": [],
   "source": [
    "list_make_model_year = get_all_models_make_year(list_make_year)"
   ]
  },
  {
   "cell_type": "code",
   "execution_count": null,
   "metadata": {},
   "outputs": [],
   "source": [
    "len(list_make_model_year)"
   ]
  },
  {
   "cell_type": "code",
   "execution_count": null,
   "metadata": {},
   "outputs": [],
   "source": [
    "# Dropando duplicados\n",
    "make_model_year = pd.DataFrame(list_make_model_year)\n",
    "make_model_year.drop_duplicates(inplace=True)\n",
    "make_model_year.dropna(inplace=True)\n",
    "make_model_year = make_model_year.to_dict(orient='records')\n",
    "make_model_year"
   ]
  },
  {
   "cell_type": "code",
   "execution_count": null,
   "metadata": {},
   "outputs": [],
   "source": [
    "len(make_model_year)"
   ]
  },
  {
   "cell_type": "code",
   "execution_count": 110,
   "metadata": {},
   "outputs": [],
   "source": [
    "json.dump(make_model_year, open(\"make_model_year.json\", \"w\"), indent=4, ensure_ascii=False)"
   ]
  },
  {
   "cell_type": "markdown",
   "metadata": {},
   "source": [
    "#### Obtendo todas as reclamações"
   ]
  },
  {
   "cell_type": "code",
   "execution_count": 124,
   "metadata": {},
   "outputs": [],
   "source": [
    "def get_all_complaints(make_model_year: list[dict]) -> list[dict]:\n",
    "    \"\"\"\n",
    "    Obtem uma lista de dicionários que contém as reclamações por modelo, marca e ano.\n",
    "    \"\"\"\n",
    "    url = \"https://api.nhtsa.gov/complaints/complaintsByVehicle?make={make}&model={model}&modelYear={modelYear}\"\n",
    "    # Lista das reclamações por modelo, marca e ano.\n",
    "    complaints = []\n",
    "    for item in tqdm(make_model_year, desc=\"Capturando as reclamações\", colour=\"blue\"):\n",
    "        response = requests.get(url.format(make=item.get('make'), model=item.get('model'), modelYear=item.get('modelYear')))\n",
    "        results = response.json().get('results')\n",
    "        if results:\n",
    "            for result in results:\n",
    "                try:\n",
    "                    date = result.get('dateComplaintFiled')\n",
    "                    if date:\n",
    "                        data_formatada = datetime.strptime(date, '%m/%d/%Y')\n",
    "                        year = data_formatada.year\n",
    "                        if year >= 2014 and year <= 2024:\n",
    "                            complaints.extend(result)\n",
    "                except Exception as e:\n",
    "                    print(f\"Erro ao processar o registro: {e}\")\n",
    "                    pass\n",
    "    return complaints"
   ]
  },
  {
   "cell_type": "code",
   "execution_count": null,
   "metadata": {},
   "outputs": [],
   "source": [
    "get_all_complaints(make_model_year)"
   ]
  },
  {
   "cell_type": "code",
   "execution_count": null,
   "metadata": {},
   "outputs": [],
   "source": [
    "data = '08/29/2011'\n",
    "\n",
    "# Converter a string para um objeto datetime\n",
    "data_formatada = datetime.strptime(data, '%m/%d/%Y')\n",
    "\n",
    "# Extrair o ano da data\n",
    "ano = data_formatada.year\n",
    "ano > 2014"
   ]
  }
 ],
 "metadata": {
  "kernelspec": {
   "display_name": "Python 3",
   "language": "python",
   "name": "python3"
  },
  "language_info": {
   "codemirror_mode": {
    "name": "ipython",
    "version": 3
   },
   "file_extension": ".py",
   "mimetype": "text/x-python",
   "name": "python",
   "nbconvert_exporter": "python",
   "pygments_lexer": "ipython3",
   "version": "3.11.1"
  }
 },
 "nbformat": 4,
 "nbformat_minor": 2
}
